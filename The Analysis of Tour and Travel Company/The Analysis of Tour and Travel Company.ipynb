{
 "cells": [
  {
   "cell_type": "markdown",
   "id": "aebc81e0-cba7-48d6-937a-46faaea39f03",
   "metadata": {},
   "source": [
    "\n",
    "\n",
    "<div align=\"center\">\n",
    "    <h1><b> The Analysis of Tour and Travel Company<b></h1>\n",
    "</div>"
   ]
  },
  {
   "cell_type": "markdown",
   "id": "987ecd9c-c5a0-4c71-b109-37ba90325cf2",
   "metadata": {},
   "source": [
    "---\n",
    "### Problem Statement:\n",
    "\n",
    "A tour & travels company wants to predict whether a customer will churn or not. Based on a few customer characteristics like their age, frequent flyer status, annual income class, services opted, account synced to social media, booked hotel or not, Target.\n",
    "\n",
    "The analysis and forecasting are based on the customer churn's impact on yearly income, hotel reservations, and whether or not they were made in order to assist the business in developing predictive models, saving money, and performing fascinating EDAs.\n",
    "\n",
    "---"
   ]
  },
  {
   "cell_type": "markdown",
   "id": "7c30ecf8-47fb-4ee4-9b09-e9c3fc39bb61",
   "metadata": {},
   "source": [
    "\n",
    "### Assumptions:\n",
    "\n",
    "1.No unusual occurrences will have a substantial impact on the data we used (Outliers).\n",
    "\n",
    "2.The data we used is current data and can be used to analyse and make prediction for the organization.\n",
    "\n",
    "3.There are no unanticipated negatives to the company employing any advised technique.\n",
    "\n",
    "---"
   ]
  },
  {
   "cell_type": "markdown",
   "id": "1694f056-d2b3-4e4e-8acc-827f0833d333",
   "metadata": {},
   "source": [
    "### Research Questions:\n",
    "\n",
    "1.How Hotel Booking and Annual Income effect customer churn?\n",
    "\n",
    "2.How can we prevent customer churn?\n",
    "\n",
    "---"
   ]
  },
  {
   "cell_type": "markdown",
   "id": "f7fba0e7-03fd-4a60-86c7-abb1ea07b7a2",
   "metadata": {},
   "source": [
    "# Importing Libraries"
   ]
  },
  {
   "cell_type": "code",
   "execution_count": 1,
   "id": "d83848aa-7f9c-44c9-9cc8-b6486838c1f9",
   "metadata": {},
   "outputs": [],
   "source": [
    "import pandas as pd\n",
    "import numpy as np\n",
    "import seaborn as sns\n",
    "import matplotlib.pyplot as plt\n",
    "import warnings\n",
    "warnings.filterwarnings('ignore')"
   ]
  },
  {
   "cell_type": "markdown",
   "id": "b7d2c6e1-98ca-4892-8fa2-565137acd3fa",
   "metadata": {},
   "source": [
    "# Loading the Dataset"
   ]
  },
  {
   "cell_type": "code",
   "execution_count": 2,
   "id": "86f27088-0abe-4ff4-8dcb-94f3002be586",
   "metadata": {},
   "outputs": [],
   "source": [
    "data= pd.read_csv('Customertravel.csv')"
   ]
  },
  {
   "cell_type": "code",
   "execution_count": 3,
   "id": "1c3f81fb-a589-47b1-bb91-86740bd751fd",
   "metadata": {},
   "outputs": [
    {
     "data": {
      "text/html": [
       "<div>\n",
       "<style scoped>\n",
       "    .dataframe tbody tr th:only-of-type {\n",
       "        vertical-align: middle;\n",
       "    }\n",
       "\n",
       "    .dataframe tbody tr th {\n",
       "        vertical-align: top;\n",
       "    }\n",
       "\n",
       "    .dataframe thead th {\n",
       "        text-align: right;\n",
       "    }\n",
       "</style>\n",
       "<table border=\"1\" class=\"dataframe\">\n",
       "  <thead>\n",
       "    <tr style=\"text-align: right;\">\n",
       "      <th></th>\n",
       "      <th>Age</th>\n",
       "      <th>FrequentFlyer</th>\n",
       "      <th>AnnualIncomeClass</th>\n",
       "      <th>ServicesOpted</th>\n",
       "      <th>AccountSyncedToSocialMedia</th>\n",
       "      <th>BookedHotelOrNot</th>\n",
       "      <th>Target</th>\n",
       "    </tr>\n",
       "  </thead>\n",
       "  <tbody>\n",
       "    <tr>\n",
       "      <th>0</th>\n",
       "      <td>34</td>\n",
       "      <td>No</td>\n",
       "      <td>Middle Income</td>\n",
       "      <td>6</td>\n",
       "      <td>No</td>\n",
       "      <td>Yes</td>\n",
       "      <td>0</td>\n",
       "    </tr>\n",
       "    <tr>\n",
       "      <th>1</th>\n",
       "      <td>34</td>\n",
       "      <td>Yes</td>\n",
       "      <td>Low Income</td>\n",
       "      <td>5</td>\n",
       "      <td>Yes</td>\n",
       "      <td>No</td>\n",
       "      <td>1</td>\n",
       "    </tr>\n",
       "    <tr>\n",
       "      <th>2</th>\n",
       "      <td>37</td>\n",
       "      <td>No</td>\n",
       "      <td>Middle Income</td>\n",
       "      <td>3</td>\n",
       "      <td>Yes</td>\n",
       "      <td>No</td>\n",
       "      <td>0</td>\n",
       "    </tr>\n",
       "    <tr>\n",
       "      <th>3</th>\n",
       "      <td>30</td>\n",
       "      <td>No</td>\n",
       "      <td>Middle Income</td>\n",
       "      <td>2</td>\n",
       "      <td>No</td>\n",
       "      <td>No</td>\n",
       "      <td>0</td>\n",
       "    </tr>\n",
       "    <tr>\n",
       "      <th>4</th>\n",
       "      <td>30</td>\n",
       "      <td>No</td>\n",
       "      <td>Low Income</td>\n",
       "      <td>1</td>\n",
       "      <td>No</td>\n",
       "      <td>No</td>\n",
       "      <td>0</td>\n",
       "    </tr>\n",
       "    <tr>\n",
       "      <th>...</th>\n",
       "      <td>...</td>\n",
       "      <td>...</td>\n",
       "      <td>...</td>\n",
       "      <td>...</td>\n",
       "      <td>...</td>\n",
       "      <td>...</td>\n",
       "      <td>...</td>\n",
       "    </tr>\n",
       "    <tr>\n",
       "      <th>949</th>\n",
       "      <td>31</td>\n",
       "      <td>Yes</td>\n",
       "      <td>Low Income</td>\n",
       "      <td>1</td>\n",
       "      <td>No</td>\n",
       "      <td>No</td>\n",
       "      <td>0</td>\n",
       "    </tr>\n",
       "    <tr>\n",
       "      <th>950</th>\n",
       "      <td>30</td>\n",
       "      <td>No</td>\n",
       "      <td>Middle Income</td>\n",
       "      <td>5</td>\n",
       "      <td>No</td>\n",
       "      <td>Yes</td>\n",
       "      <td>0</td>\n",
       "    </tr>\n",
       "    <tr>\n",
       "      <th>951</th>\n",
       "      <td>37</td>\n",
       "      <td>No</td>\n",
       "      <td>Middle Income</td>\n",
       "      <td>4</td>\n",
       "      <td>No</td>\n",
       "      <td>No</td>\n",
       "      <td>0</td>\n",
       "    </tr>\n",
       "    <tr>\n",
       "      <th>952</th>\n",
       "      <td>30</td>\n",
       "      <td>No</td>\n",
       "      <td>Low Income</td>\n",
       "      <td>1</td>\n",
       "      <td>Yes</td>\n",
       "      <td>Yes</td>\n",
       "      <td>0</td>\n",
       "    </tr>\n",
       "    <tr>\n",
       "      <th>953</th>\n",
       "      <td>31</td>\n",
       "      <td>Yes</td>\n",
       "      <td>High Income</td>\n",
       "      <td>1</td>\n",
       "      <td>No</td>\n",
       "      <td>No</td>\n",
       "      <td>0</td>\n",
       "    </tr>\n",
       "  </tbody>\n",
       "</table>\n",
       "<p>954 rows × 7 columns</p>\n",
       "</div>"
      ],
      "text/plain": [
       "     Age FrequentFlyer AnnualIncomeClass  ServicesOpted  \\\n",
       "0     34            No     Middle Income              6   \n",
       "1     34           Yes        Low Income              5   \n",
       "2     37            No     Middle Income              3   \n",
       "3     30            No     Middle Income              2   \n",
       "4     30            No        Low Income              1   \n",
       "..   ...           ...               ...            ...   \n",
       "949   31           Yes        Low Income              1   \n",
       "950   30            No     Middle Income              5   \n",
       "951   37            No     Middle Income              4   \n",
       "952   30            No        Low Income              1   \n",
       "953   31           Yes       High Income              1   \n",
       "\n",
       "    AccountSyncedToSocialMedia BookedHotelOrNot  Target  \n",
       "0                           No              Yes       0  \n",
       "1                          Yes               No       1  \n",
       "2                          Yes               No       0  \n",
       "3                           No               No       0  \n",
       "4                           No               No       0  \n",
       "..                         ...              ...     ...  \n",
       "949                         No               No       0  \n",
       "950                         No              Yes       0  \n",
       "951                         No               No       0  \n",
       "952                        Yes              Yes       0  \n",
       "953                         No               No       0  \n",
       "\n",
       "[954 rows x 7 columns]"
      ]
     },
     "execution_count": 3,
     "metadata": {},
     "output_type": "execute_result"
    }
   ],
   "source": [
    "data"
   ]
  },
  {
   "cell_type": "markdown",
   "id": "bd5aa624-0bdb-4d9d-8d7a-1182e8fae83b",
   "metadata": {},
   "source": [
    "---\n",
    "<div align=\"center\">\n",
    "    <h1><b> Dataset Description:<b></h1>\n",
    "</div>\n",
    "\n",
    "| **Column Name**                          | **Description**                                                      |\n",
    "|------------------------------------------|----------------------------------------------------------------------|\n",
    "| **Age**                                  | Age of user                                                          |\n",
    "| **Frequent Flyer**                       | Whether Customer takes frequent flights                              |\n",
    "| **Annual Income Class**                  | Class of annual income of user                                        |\n",
    "| **Services Opted**                       | Number of times services opted during recent years                   |\n",
    "| **Account Synced To Social Media**       | Whether Company Account Of User Synchronised to Their Social Media    |\n",
    "| **Booked Hotel Or Not**                  | Whether the customer book lodgings/Hotels using company services      |\n",
    "| **Target**                               | 1- Customer Churns, 0- Customer Doesn’t Churn                        |\n"
   ]
  },
  {
   "cell_type": "markdown",
   "id": "840901e3-5b68-4190-a34e-7cd6aa5d8129",
   "metadata": {},
   "source": [
    "---\n",
    "# Exploratory Data Analysis"
   ]
  },
  {
   "cell_type": "code",
   "execution_count": 4,
   "id": "42df20d8-792c-4665-9abd-8a7a476bc922",
   "metadata": {},
   "outputs": [
    {
     "name": "stdout",
     "output_type": "stream",
     "text": [
      "<class 'pandas.core.frame.DataFrame'>\n",
      "RangeIndex: 954 entries, 0 to 953\n",
      "Data columns (total 7 columns):\n",
      " #   Column                      Non-Null Count  Dtype \n",
      "---  ------                      --------------  ----- \n",
      " 0   Age                         954 non-null    int64 \n",
      " 1   FrequentFlyer               954 non-null    object\n",
      " 2   AnnualIncomeClass           954 non-null    object\n",
      " 3   ServicesOpted               954 non-null    int64 \n",
      " 4   AccountSyncedToSocialMedia  954 non-null    object\n",
      " 5   BookedHotelOrNot            954 non-null    object\n",
      " 6   Target                      954 non-null    int64 \n",
      "dtypes: int64(3), object(4)\n",
      "memory usage: 52.3+ KB\n"
     ]
    }
   ],
   "source": [
    "data.info()"
   ]
  },
  {
   "cell_type": "code",
   "execution_count": 5,
   "id": "2372998d-f735-4d30-8e1f-9bbcd357cf77",
   "metadata": {},
   "outputs": [
    {
     "data": {
      "text/plain": [
       "['Age',\n",
       " 'FrequentFlyer',\n",
       " 'AnnualIncomeClass',\n",
       " 'ServicesOpted',\n",
       " 'AccountSyncedToSocialMedia',\n",
       " 'BookedHotelOrNot',\n",
       " 'Target']"
      ]
     },
     "execution_count": 5,
     "metadata": {},
     "output_type": "execute_result"
    }
   ],
   "source": [
    "data.columns.tolist()"
   ]
  },
  {
   "cell_type": "code",
   "execution_count": 6,
   "id": "1c5eb1de-2523-4864-b2be-2b5ba679c833",
   "metadata": {},
   "outputs": [
    {
     "data": {
      "text/plain": [
       "(954, 7)"
      ]
     },
     "execution_count": 6,
     "metadata": {},
     "output_type": "execute_result"
    }
   ],
   "source": [
    "data.shape"
   ]
  },
  {
   "cell_type": "code",
   "execution_count": 7,
   "id": "3dc29a5c-e69d-4a1a-b9f7-a6a6105549d8",
   "metadata": {},
   "outputs": [
    {
     "data": {
      "text/plain": [
       "Age                            int64\n",
       "FrequentFlyer                 object\n",
       "AnnualIncomeClass             object\n",
       "ServicesOpted                  int64\n",
       "AccountSyncedToSocialMedia    object\n",
       "BookedHotelOrNot              object\n",
       "Target                         int64\n",
       "dtype: object"
      ]
     },
     "execution_count": 7,
     "metadata": {},
     "output_type": "execute_result"
    }
   ],
   "source": [
    "data.dtypes"
   ]
  },
  {
   "cell_type": "code",
   "execution_count": 8,
   "id": "1123fdec-ebb7-46fb-9f09-62088b2032eb",
   "metadata": {},
   "outputs": [
    {
     "data": {
      "text/html": [
       "<div>\n",
       "<style scoped>\n",
       "    .dataframe tbody tr th:only-of-type {\n",
       "        vertical-align: middle;\n",
       "    }\n",
       "\n",
       "    .dataframe tbody tr th {\n",
       "        vertical-align: top;\n",
       "    }\n",
       "\n",
       "    .dataframe thead th {\n",
       "        text-align: right;\n",
       "    }\n",
       "</style>\n",
       "<table border=\"1\" class=\"dataframe\">\n",
       "  <thead>\n",
       "    <tr style=\"text-align: right;\">\n",
       "      <th></th>\n",
       "      <th>Age</th>\n",
       "      <th>ServicesOpted</th>\n",
       "      <th>Target</th>\n",
       "    </tr>\n",
       "  </thead>\n",
       "  <tbody>\n",
       "    <tr>\n",
       "      <th>count</th>\n",
       "      <td>954.000000</td>\n",
       "      <td>954.000000</td>\n",
       "      <td>954.000000</td>\n",
       "    </tr>\n",
       "    <tr>\n",
       "      <th>mean</th>\n",
       "      <td>32.109015</td>\n",
       "      <td>2.437107</td>\n",
       "      <td>0.234801</td>\n",
       "    </tr>\n",
       "    <tr>\n",
       "      <th>std</th>\n",
       "      <td>3.337388</td>\n",
       "      <td>1.606233</td>\n",
       "      <td>0.424097</td>\n",
       "    </tr>\n",
       "    <tr>\n",
       "      <th>min</th>\n",
       "      <td>27.000000</td>\n",
       "      <td>1.000000</td>\n",
       "      <td>0.000000</td>\n",
       "    </tr>\n",
       "    <tr>\n",
       "      <th>25%</th>\n",
       "      <td>30.000000</td>\n",
       "      <td>1.000000</td>\n",
       "      <td>0.000000</td>\n",
       "    </tr>\n",
       "    <tr>\n",
       "      <th>50%</th>\n",
       "      <td>31.000000</td>\n",
       "      <td>2.000000</td>\n",
       "      <td>0.000000</td>\n",
       "    </tr>\n",
       "    <tr>\n",
       "      <th>75%</th>\n",
       "      <td>35.000000</td>\n",
       "      <td>4.000000</td>\n",
       "      <td>0.000000</td>\n",
       "    </tr>\n",
       "    <tr>\n",
       "      <th>max</th>\n",
       "      <td>38.000000</td>\n",
       "      <td>6.000000</td>\n",
       "      <td>1.000000</td>\n",
       "    </tr>\n",
       "  </tbody>\n",
       "</table>\n",
       "</div>"
      ],
      "text/plain": [
       "              Age  ServicesOpted      Target\n",
       "count  954.000000     954.000000  954.000000\n",
       "mean    32.109015       2.437107    0.234801\n",
       "std      3.337388       1.606233    0.424097\n",
       "min     27.000000       1.000000    0.000000\n",
       "25%     30.000000       1.000000    0.000000\n",
       "50%     31.000000       2.000000    0.000000\n",
       "75%     35.000000       4.000000    0.000000\n",
       "max     38.000000       6.000000    1.000000"
      ]
     },
     "execution_count": 8,
     "metadata": {},
     "output_type": "execute_result"
    }
   ],
   "source": [
    "data.describe()"
   ]
  },
  {
   "cell_type": "markdown",
   "id": "09db73d5-7e94-4d9c-b2b4-6b3f58a3fba1",
   "metadata": {},
   "source": [
    "### **check catagorical columns:**"
   ]
  },
  {
   "cell_type": "code",
   "execution_count": 9,
   "id": "4b2bd1f7-20a7-4b24-82b6-95597d5167ba",
   "metadata": {},
   "outputs": [
    {
     "data": {
      "text/html": [
       "<div>\n",
       "<style scoped>\n",
       "    .dataframe tbody tr th:only-of-type {\n",
       "        vertical-align: middle;\n",
       "    }\n",
       "\n",
       "    .dataframe tbody tr th {\n",
       "        vertical-align: top;\n",
       "    }\n",
       "\n",
       "    .dataframe thead th {\n",
       "        text-align: right;\n",
       "    }\n",
       "</style>\n",
       "<table border=\"1\" class=\"dataframe\">\n",
       "  <thead>\n",
       "    <tr style=\"text-align: right;\">\n",
       "      <th></th>\n",
       "      <th>FrequentFlyer</th>\n",
       "      <th>AnnualIncomeClass</th>\n",
       "      <th>AccountSyncedToSocialMedia</th>\n",
       "      <th>BookedHotelOrNot</th>\n",
       "    </tr>\n",
       "  </thead>\n",
       "  <tbody>\n",
       "    <tr>\n",
       "      <th>0</th>\n",
       "      <td>No</td>\n",
       "      <td>Middle Income</td>\n",
       "      <td>No</td>\n",
       "      <td>Yes</td>\n",
       "    </tr>\n",
       "    <tr>\n",
       "      <th>1</th>\n",
       "      <td>Yes</td>\n",
       "      <td>Low Income</td>\n",
       "      <td>Yes</td>\n",
       "      <td>No</td>\n",
       "    </tr>\n",
       "  </tbody>\n",
       "</table>\n",
       "</div>"
      ],
      "text/plain": [
       "  FrequentFlyer AnnualIncomeClass AccountSyncedToSocialMedia BookedHotelOrNot\n",
       "0            No     Middle Income                         No              Yes\n",
       "1           Yes        Low Income                        Yes               No"
      ]
     },
     "execution_count": 9,
     "metadata": {},
     "output_type": "execute_result"
    }
   ],
   "source": [
    "catagorical_columns= data.select_dtypes(include=[object])\n",
    "catagorical_columns.head(2)"
   ]
  },
  {
   "cell_type": "markdown",
   "id": "a0318de3-9955-4492-b3ee-9d5ac2558f01",
   "metadata": {},
   "source": [
    "### check numerical columns:"
   ]
  },
  {
   "cell_type": "code",
   "execution_count": 10,
   "id": "f3321c94-7bb5-4b7e-895e-d0b5add6f038",
   "metadata": {},
   "outputs": [
    {
     "data": {
      "text/html": [
       "<div>\n",
       "<style scoped>\n",
       "    .dataframe tbody tr th:only-of-type {\n",
       "        vertical-align: middle;\n",
       "    }\n",
       "\n",
       "    .dataframe tbody tr th {\n",
       "        vertical-align: top;\n",
       "    }\n",
       "\n",
       "    .dataframe thead th {\n",
       "        text-align: right;\n",
       "    }\n",
       "</style>\n",
       "<table border=\"1\" class=\"dataframe\">\n",
       "  <thead>\n",
       "    <tr style=\"text-align: right;\">\n",
       "      <th></th>\n",
       "      <th>Age</th>\n",
       "      <th>ServicesOpted</th>\n",
       "      <th>Target</th>\n",
       "    </tr>\n",
       "  </thead>\n",
       "  <tbody>\n",
       "    <tr>\n",
       "      <th>0</th>\n",
       "      <td>34</td>\n",
       "      <td>6</td>\n",
       "      <td>0</td>\n",
       "    </tr>\n",
       "    <tr>\n",
       "      <th>1</th>\n",
       "      <td>34</td>\n",
       "      <td>5</td>\n",
       "      <td>1</td>\n",
       "    </tr>\n",
       "  </tbody>\n",
       "</table>\n",
       "</div>"
      ],
      "text/plain": [
       "   Age  ServicesOpted  Target\n",
       "0   34              6       0\n",
       "1   34              5       1"
      ]
     },
     "execution_count": 10,
     "metadata": {},
     "output_type": "execute_result"
    }
   ],
   "source": [
    "numerical_columns= data.select_dtypes(include=np.number)\n",
    "numerical_columns.head(2)"
   ]
  },
  {
   "cell_type": "markdown",
   "id": "39222397-7b53-42a4-b538-241c1f679d2e",
   "metadata": {},
   "source": [
    "### Adding spaces to all column names"
   ]
  },
  {
   "cell_type": "code",
   "execution_count": 11,
   "id": "0d30ebb4-6ee1-4803-94a0-914c82dd62f3",
   "metadata": {},
   "outputs": [
    {
     "name": "stdout",
     "output_type": "stream",
     "text": [
      "     Age Frequent Flyer Annual Income Class  Services Opted  \\\n",
      "0     34             No       Middle Income               6   \n",
      "1     34            Yes          Low Income               5   \n",
      "2     37             No       Middle Income               3   \n",
      "3     30             No       Middle Income               2   \n",
      "4     30             No          Low Income               1   \n",
      "..   ...            ...                 ...             ...   \n",
      "949   31            Yes          Low Income               1   \n",
      "950   30             No       Middle Income               5   \n",
      "951   37             No       Middle Income               4   \n",
      "952   30             No          Low Income               1   \n",
      "953   31            Yes         High Income               1   \n",
      "\n",
      "    Account Synced To Social Media Booked Hotel Or Not  Target  \n",
      "0                               No                 Yes       0  \n",
      "1                              Yes                  No       1  \n",
      "2                              Yes                  No       0  \n",
      "3                               No                  No       0  \n",
      "4                               No                  No       0  \n",
      "..                             ...                 ...     ...  \n",
      "949                             No                  No       0  \n",
      "950                             No                 Yes       0  \n",
      "951                             No                  No       0  \n",
      "952                            Yes                 Yes       0  \n",
      "953                             No                  No       0  \n",
      "\n",
      "[954 rows x 7 columns]\n"
     ]
    }
   ],
   "source": [
    "import re\n",
    "# Function to add spaces between words in camelCase or PascalCase column names\n",
    "def add_space_to_columns(col_name):\n",
    "    return re.sub(r'(?<!^)(?=[A-Z])', ' ', col_name)\n",
    "\n",
    "# Rename all columns in the DataFrame\n",
    "data.columns = [add_space_to_columns(col) for col in data.columns]\n",
    "\n",
    "print(data)"
   ]
  },
  {
   "cell_type": "markdown",
   "id": "39e6717a-e174-4bbe-81c2-f9ea19c2129e",
   "metadata": {},
   "source": [
    "# Data Cleaning"
   ]
  },
  {
   "cell_type": "code",
   "execution_count": 12,
   "id": "91b7abb7-0212-4cc6-ab94-4a7726c362f3",
   "metadata": {},
   "outputs": [
    {
     "data": {
      "text/plain": [
       "Age                               0\n",
       "Frequent Flyer                    0\n",
       "Annual Income Class               0\n",
       "Services Opted                    0\n",
       "Account Synced To Social Media    0\n",
       "Booked Hotel Or Not               0\n",
       "Target                            0\n",
       "dtype: int64"
      ]
     },
     "execution_count": 12,
     "metadata": {},
     "output_type": "execute_result"
    }
   ],
   "source": [
    "data.isnull().sum()"
   ]
  },
  {
   "cell_type": "code",
   "execution_count": 13,
   "id": "58666a31-031e-4134-90e9-5f04d0db54c1",
   "metadata": {},
   "outputs": [
    {
     "data": {
      "text/plain": [
       "507"
      ]
     },
     "execution_count": 13,
     "metadata": {},
     "output_type": "execute_result"
    }
   ],
   "source": [
    "# check duplicate values\n",
    "data.duplicated().sum()"
   ]
  },
  {
   "cell_type": "code",
   "execution_count": 14,
   "id": "394f0963-5fae-4471-b7c8-11c73bb35aa7",
   "metadata": {},
   "outputs": [],
   "source": [
    "data.drop_duplicates(keep='first',inplace=True)"
   ]
  },
  {
   "cell_type": "code",
   "execution_count": 15,
   "id": "33e8539b-20e5-49f2-9fac-9620abf4d0e5",
   "metadata": {},
   "outputs": [
    {
     "data": {
      "text/plain": [
       "0"
      ]
     },
     "execution_count": 15,
     "metadata": {},
     "output_type": "execute_result"
    }
   ],
   "source": [
    "# checking duplicate values again\n",
    "data.duplicated().sum()"
   ]
  },
  {
   "cell_type": "code",
   "execution_count": 16,
   "id": "4ef27e1e-59ab-4316-99d6-5486f71a60dc",
   "metadata": {},
   "outputs": [
    {
     "data": {
      "text/plain": [
       "Annual Income Class\n",
       "High Income      40\n",
       "Low Income       64\n",
       "Middle Income    18\n",
       "Name: Target, dtype: int64"
      ]
     },
     "execution_count": 16,
     "metadata": {},
     "output_type": "execute_result"
    }
   ],
   "source": [
    "data.groupby('Annual Income Class')['Target'].agg('sum')"
   ]
  },
  {
   "cell_type": "code",
   "execution_count": 17,
   "id": "a471ce00-68b2-4ced-a7d6-92d07d9be8ec",
   "metadata": {},
   "outputs": [
    {
     "name": "stdout",
     "output_type": "stream",
     "text": [
      "[34 37 30 27 36 28 35 31 38 33 29]\n",
      "['No' 'Yes' 'No Record']\n",
      "['Middle Income' 'Low Income' 'High Income']\n",
      "[6 5 3 2 1 4]\n",
      "['No' 'Yes']\n",
      "['Yes' 'No']\n",
      "[0 1]\n"
     ]
    }
   ],
   "source": [
    "for i in data:\n",
    "    print(data[i].unique())"
   ]
  },
  {
   "cell_type": "markdown",
   "id": "f23cac7f-7340-4e82-85ab-41a8a28df299",
   "metadata": {},
   "source": [
    "### frequency of catagory:"
   ]
  },
  {
   "cell_type": "code",
   "execution_count": 18,
   "id": "79c4e889-7b59-4b8f-9bf8-2e3714ff4adb",
   "metadata": {},
   "outputs": [
    {
     "name": "stdout",
     "output_type": "stream",
     "text": [
      "\n",
      "column name: Age\n",
      "Age\n",
      "30    70\n",
      "34    51\n",
      "37    45\n",
      "31    42\n",
      "29    42\n",
      "28    40\n",
      "27    36\n",
      "36    36\n",
      "35    34\n",
      "33    26\n",
      "38    25\n",
      "Name: count, dtype: int64\n",
      "\n",
      "column name: Frequent Flyer\n",
      "Frequent Flyer\n",
      "No           250\n",
      "Yes          144\n",
      "No Record     53\n",
      "Name: count, dtype: int64\n",
      "\n",
      "column name: Annual Income Class\n",
      "Annual Income Class\n",
      "Low Income       205\n",
      "Middle Income    173\n",
      "High Income       69\n",
      "Name: count, dtype: int64\n",
      "\n",
      "column name: Services Opted\n",
      "Services Opted\n",
      "1    150\n",
      "4     80\n",
      "2     71\n",
      "3     63\n",
      "5     55\n",
      "6     28\n",
      "Name: count, dtype: int64\n",
      "\n",
      "column name: Account Synced To Social Media\n",
      "Account Synced To Social Media\n",
      "No     261\n",
      "Yes    186\n",
      "Name: count, dtype: int64\n",
      "\n",
      "column name: Booked Hotel Or Not\n",
      "Booked Hotel Or Not\n",
      "No     258\n",
      "Yes    189\n",
      "Name: count, dtype: int64\n",
      "\n",
      "column name: Target\n",
      "Target\n",
      "0    325\n",
      "1    122\n",
      "Name: count, dtype: int64\n"
     ]
    }
   ],
   "source": [
    "for col in data:\n",
    "    print('\\ncolumn name:',col)\n",
    "    print(data[col].value_counts())"
   ]
  },
  {
   "cell_type": "code",
   "execution_count": 19,
   "id": "2e60b9a9-0572-4eb0-8fec-4db7d8de93ee",
   "metadata": {},
   "outputs": [
    {
     "data": {
      "text/plain": [
       "array([6, 5, 3, 2, 1, 4], dtype=int64)"
      ]
     },
     "execution_count": 19,
     "metadata": {},
     "output_type": "execute_result"
    }
   ],
   "source": [
    "data['Services Opted'].unique()"
   ]
  },
  {
   "cell_type": "markdown",
   "id": "b4e809b4-047b-41e6-8ff2-e5f5a0fc062e",
   "metadata": {},
   "source": [
    "----\n",
    "# Data Visualization\n",
    "\n",
    "---"
   ]
  },
  {
   "cell_type": "markdown",
   "id": "54707ed0-d4eb-4144-b1a6-d8366eb28bd2",
   "metadata": {},
   "source": [
    "### Number of times services opted during recent years"
   ]
  },
  {
   "cell_type": "markdown",
   "id": "99b1f18f-9a41-44e3-89e1-f957c93c226c",
   "metadata": {},
   "source": [
    "---\n",
    "\n",
    "The bar chart visualizes the frequency of the number of services opted by customers during recent years. From the graph, it is evident that:\n",
    "\n",
    "- The majority of customers opted for 1 service, with a count of approximately 145.\n",
    "- Fewer customers opted for 2 or 3 services, with counts near 65 and 60 respectively.\n",
    "- The count increases again for 4 services, reaching around 85 customers.\n",
    "- Fewer customers opted for 5 and 6 services, with the counts dropping to around 45 and 30 respectively.\n",
    "\n",
    "This distribution suggests that most customers tend to opt for a single service, with only a small percentage opting for multiple services. The upward spike at 4 services could indicate a specific package or combination that is more attractive to some customers.\n",
    "\n",
    "--- \n"
   ]
  },
  {
   "cell_type": "code",
   "execution_count": 20,
   "id": "9c03173e-2f40-4f9b-8436-3ff2602ae0c1",
   "metadata": {},
   "outputs": [
    {
     "data": {
      "image/png": "[encoded data removed]",
      "text/plain": [
       "<Figure size 800x600 with 1 Axes>"
      ]
     },
     "metadata": {},
     "output_type": "display_data"
    }
   ],
   "source": [
    "counts= data['Services Opted'].value_counts()\n",
    "\n",
    "# Using Matplotlib to create a count plot\n",
    "plt.figure(figsize=(8, 6))\n",
    "plt.bar(counts.index, counts,color=['orange','pink','#DC143C','skyblue','purple','lightgreen'])\n",
    "plt.title('Count Plot of Services Opted')\n",
    "plt.xlabel('Numbers')\n",
    "plt.ylabel('Count')\n",
    "plt.show()"
   ]
  },
  {
   "cell_type": "markdown",
   "id": "c804a124-4200-4e2b-a97a-c5b9d4dfb66c",
   "metadata": {},
   "source": [
    "### Count of customer take flights"
   ]
  },
  {
   "cell_type": "markdown",
   "id": "37bce0c7-f9a3-4130-b0a1-3572af936136",
   "metadata": {},
   "source": [
    "---\n",
    "From the bar plot, it is evident that the majority of customers do not take flights, as indicated by the large \"No\" category. A smaller proportion of customers avail their flights, while a few have no recorded data regarding flight usage. them too!"
   ]
  },
  {
   "cell_type": "code",
   "execution_count": 21,
   "id": "c3eba9ce-4a79-438c-af21-ec11f48821bf",
   "metadata": {},
   "outputs": [
    {
     "data": {
      "image/png": "[encoded data removed]",
      "text/plain": [
       "<Figure size 800x600 with 1 Axes>"
      ]
     },
     "metadata": {},
     "output_type": "display_data"
    }
   ],
   "source": [
    "counts= data['Frequent Flyer'].value_counts()\n",
    "\n",
    "plt.figure(figsize=(8, 6))\n",
    "plt.bar(counts.index, counts,color = ['salmon', 'lightgreen','orange'])\n",
    "plt.title('Count Plot of Customer takes a flight')\n",
    "plt.xlabel('Numbers')\n",
    "plt.ylabel('Count')\n",
    "plt.show()"
   ]
  },
  {
   "cell_type": "code",
   "execution_count": 22,
   "id": "01fad42a-582e-49d7-bc1c-c5de949a6c85",
   "metadata": {},
   "outputs": [
    {
     "data": {
      "text/plain": [
       "array(['Yes', 'No'], dtype=object)"
      ]
     },
     "execution_count": 22,
     "metadata": {},
     "output_type": "execute_result"
    }
   ],
   "source": [
    "data['Booked Hotel Or Not'].unique()"
   ]
  },
  {
   "cell_type": "code",
   "execution_count": 23,
   "id": "0ab87eec-085c-429a-9e05-2106dca9faee",
   "metadata": {},
   "outputs": [
    {
     "data": {
      "text/html": [
       "<div>\n",
       "<style scoped>\n",
       "    .dataframe tbody tr th:only-of-type {\n",
       "        vertical-align: middle;\n",
       "    }\n",
       "\n",
       "    .dataframe tbody tr th {\n",
       "        vertical-align: top;\n",
       "    }\n",
       "\n",
       "    .dataframe thead th {\n",
       "        text-align: right;\n",
       "    }\n",
       "</style>\n",
       "<table border=\"1\" class=\"dataframe\">\n",
       "  <thead>\n",
       "    <tr style=\"text-align: right;\">\n",
       "      <th></th>\n",
       "      <th>Age</th>\n",
       "      <th>Frequent Flyer</th>\n",
       "      <th>Annual Income Class</th>\n",
       "      <th>Services Opted</th>\n",
       "      <th>Account Synced To Social Media</th>\n",
       "      <th>Booked Hotel Or Not</th>\n",
       "      <th>Target</th>\n",
       "    </tr>\n",
       "  </thead>\n",
       "  <tbody>\n",
       "    <tr>\n",
       "      <th>0</th>\n",
       "      <td>34</td>\n",
       "      <td>No</td>\n",
       "      <td>Middle Income</td>\n",
       "      <td>6</td>\n",
       "      <td>No</td>\n",
       "      <td>Booked</td>\n",
       "      <td>0</td>\n",
       "    </tr>\n",
       "    <tr>\n",
       "      <th>1</th>\n",
       "      <td>34</td>\n",
       "      <td>Yes</td>\n",
       "      <td>Low Income</td>\n",
       "      <td>5</td>\n",
       "      <td>Yes</td>\n",
       "      <td>Not Booked</td>\n",
       "      <td>1</td>\n",
       "    </tr>\n",
       "    <tr>\n",
       "      <th>2</th>\n",
       "      <td>37</td>\n",
       "      <td>No</td>\n",
       "      <td>Middle Income</td>\n",
       "      <td>3</td>\n",
       "      <td>Yes</td>\n",
       "      <td>Not Booked</td>\n",
       "      <td>0</td>\n",
       "    </tr>\n",
       "    <tr>\n",
       "      <th>3</th>\n",
       "      <td>30</td>\n",
       "      <td>No</td>\n",
       "      <td>Middle Income</td>\n",
       "      <td>2</td>\n",
       "      <td>No</td>\n",
       "      <td>Not Booked</td>\n",
       "      <td>0</td>\n",
       "    </tr>\n",
       "    <tr>\n",
       "      <th>4</th>\n",
       "      <td>30</td>\n",
       "      <td>No</td>\n",
       "      <td>Low Income</td>\n",
       "      <td>1</td>\n",
       "      <td>No</td>\n",
       "      <td>Not Booked</td>\n",
       "      <td>0</td>\n",
       "    </tr>\n",
       "    <tr>\n",
       "      <th>...</th>\n",
       "      <td>...</td>\n",
       "      <td>...</td>\n",
       "      <td>...</td>\n",
       "      <td>...</td>\n",
       "      <td>...</td>\n",
       "      <td>...</td>\n",
       "      <td>...</td>\n",
       "    </tr>\n",
       "    <tr>\n",
       "      <th>932</th>\n",
       "      <td>29</td>\n",
       "      <td>No</td>\n",
       "      <td>Low Income</td>\n",
       "      <td>3</td>\n",
       "      <td>Yes</td>\n",
       "      <td>Not Booked</td>\n",
       "      <td>0</td>\n",
       "    </tr>\n",
       "    <tr>\n",
       "      <th>936</th>\n",
       "      <td>36</td>\n",
       "      <td>No Record</td>\n",
       "      <td>Middle Income</td>\n",
       "      <td>1</td>\n",
       "      <td>Yes</td>\n",
       "      <td>Booked</td>\n",
       "      <td>0</td>\n",
       "    </tr>\n",
       "    <tr>\n",
       "      <th>940</th>\n",
       "      <td>27</td>\n",
       "      <td>No</td>\n",
       "      <td>Low Income</td>\n",
       "      <td>1</td>\n",
       "      <td>No</td>\n",
       "      <td>Booked</td>\n",
       "      <td>0</td>\n",
       "    </tr>\n",
       "    <tr>\n",
       "      <th>947</th>\n",
       "      <td>38</td>\n",
       "      <td>No Record</td>\n",
       "      <td>Middle Income</td>\n",
       "      <td>2</td>\n",
       "      <td>Yes</td>\n",
       "      <td>Not Booked</td>\n",
       "      <td>0</td>\n",
       "    </tr>\n",
       "    <tr>\n",
       "      <th>950</th>\n",
       "      <td>30</td>\n",
       "      <td>No</td>\n",
       "      <td>Middle Income</td>\n",
       "      <td>5</td>\n",
       "      <td>No</td>\n",
       "      <td>Booked</td>\n",
       "      <td>0</td>\n",
       "    </tr>\n",
       "  </tbody>\n",
       "</table>\n",
       "<p>447 rows × 7 columns</p>\n",
       "</div>"
      ],
      "text/plain": [
       "     Age Frequent Flyer Annual Income Class  Services Opted  \\\n",
       "0     34             No       Middle Income               6   \n",
       "1     34            Yes          Low Income               5   \n",
       "2     37             No       Middle Income               3   \n",
       "3     30             No       Middle Income               2   \n",
       "4     30             No          Low Income               1   \n",
       "..   ...            ...                 ...             ...   \n",
       "932   29             No          Low Income               3   \n",
       "936   36      No Record       Middle Income               1   \n",
       "940   27             No          Low Income               1   \n",
       "947   38      No Record       Middle Income               2   \n",
       "950   30             No       Middle Income               5   \n",
       "\n",
       "    Account Synced To Social Media Booked Hotel Or Not  Target  \n",
       "0                               No              Booked       0  \n",
       "1                              Yes          Not Booked       1  \n",
       "2                              Yes          Not Booked       0  \n",
       "3                               No          Not Booked       0  \n",
       "4                               No          Not Booked       0  \n",
       "..                             ...                 ...     ...  \n",
       "932                            Yes          Not Booked       0  \n",
       "936                            Yes              Booked       0  \n",
       "940                             No              Booked       0  \n",
       "947                            Yes          Not Booked       0  \n",
       "950                             No              Booked       0  \n",
       "\n",
       "[447 rows x 7 columns]"
      ]
     },
     "execution_count": 23,
     "metadata": {},
     "output_type": "execute_result"
    }
   ],
   "source": [
    "# replacing 0&1 into Booked and Not Booked\n",
    "data['Booked Hotel Or Not'].replace(['Yes','No'],['Booked','Not Booked'],inplace=True)\n",
    "data"
   ]
  },
  {
   "cell_type": "markdown",
   "id": "abcdf04c-5898-4833-ba70-f0ae0f51722a",
   "metadata": {},
   "source": [
    "### How Hotel Bookings Affect Customer Churn"
   ]
  },
  {
   "cell_type": "markdown",
   "id": "7f031a2d-21c5-42b6-afcc-37153f525cfb",
   "metadata": {},
   "source": [
    "---\n",
    "The bar plot illustrates that the percentage of customers who booked a hotel is higher than those who did not. This suggests that despite some cancellations, a larger proportion of customers proceed with booking their hotel. This behavior could indicate that many customers value having a hotel reservation in place, which may act as a retention factor for the company. Understanding this pattern could help the company focus on strategies to further reduce cancellations while encouraging more bookings."
   ]
  },
  {
   "cell_type": "code",
   "execution_count": 24,
   "id": "5d9fd5b8-0427-44e5-8961-88f821bd9add",
   "metadata": {},
   "outputs": [
    {
     "data": {
      "image/png": "[encoded data removed]",
      "text/plain": [
       "<Figure size 500x600 with 1 Axes>"
      ]
     },
     "metadata": {},
     "output_type": "display_data"
    }
   ],
   "source": [
    "plt.figure(figsize=(5,6))\n",
    "plt.bar([\"Booked\",\"NotBooked\"], data ['Booked Hotel Or Not'].value_counts(normalize = 1), edgecolor = 'black', width = 0.8, color = ['lightgreen', 'salmon'])\n",
    "plt.title('How Hotel Bookings Affect Customer Churn')\n",
    "plt.show()"
   ]
  },
  {
   "cell_type": "markdown",
   "id": "b28d548e-325c-4ac5-ae16-2fe40d437e0d",
   "metadata": {},
   "source": [
    "# Annual Income Visualization"
   ]
  },
  {
   "cell_type": "markdown",
   "id": "d137c2ce-5c30-4967-a98a-38773bd8002c",
   "metadata": {},
   "source": [
    "### How Income Impacts Customer Churn"
   ]
  },
  {
   "cell_type": "markdown",
   "id": "b4d657a2-3f3b-438d-93e6-176fb352cc18",
   "metadata": {},
   "source": [
    "---\n",
    "The pie chart shows the distribution of customer churn by annual income class, categorized into High, Middle, and Low income groups. Interestingly, the **Low Income** class contributes the highest percentage of profit to the hotel, despite being the least financially capable group. On the other hand, the **High Income** class provides the lowest profit contribution, which could suggest that wealthier customers may be opting for alternative services or travel packages. This insight can guide the company to focus more on retaining low-income customers, who appear to provide more consistent revenue, while also exploring ways to increase engagement with high-income customers.\n"
   ]
  },
  {
   "cell_type": "code",
   "execution_count": 25,
   "id": "b53d12b0-dbcb-4d6b-b516-5ac8a40a85bf",
   "metadata": {},
   "outputs": [
    {
     "data": {
      "text/plain": [
       "Annual Income Class\n",
       "High Income       69\n",
       "Low Income       205\n",
       "Middle Income    173\n",
       "dtype: int64"
      ]
     },
     "execution_count": 25,
     "metadata": {},
     "output_type": "execute_result"
    }
   ],
   "source": [
    "income= data.groupby(\"Annual Income Class\").size()\n",
    "income"
   ]
  },
  {
   "cell_type": "code",
   "execution_count": 26,
   "id": "33070bce-cbd6-4860-9145-c4b3f40b0f0d",
   "metadata": {},
   "outputs": [
    {
     "data": {
      "image/png": "[encoded data removed]",
      "text/plain": [
       "<Figure size 640x480 with 1 Axes>"
      ]
     },
     "metadata": {},
     "output_type": "display_data"
    }
   ],
   "source": [
    "plt.pie(income.values, labels = (\"High Income\", \"Low Income\", \"Middle Income\" ), autopct='%1.1f%%', radius = 1.2, textprops = {\"fontsize\" : 16},colors=['salmon', 'lightgreen','orange'])\n",
    "plt.title(\"How Income Impacts Customer Churn\", c=\"b\")\n",
    "plt.show()"
   ]
  },
  {
   "cell_type": "markdown",
   "id": "ce124fb9-fb00-409c-983d-2cae301501a2",
   "metadata": {},
   "source": [
    "### Use pivot table to explore churn rates by 'Annual Income Class'"
   ]
  },
  {
   "cell_type": "markdown",
   "id": "c83ab031-e7d7-49d4-8dc9-f2dc09350f57",
   "metadata": {},
   "source": [
    "---\n",
    "\n",
    "The pivot table reveals that **High Income** customers have the highest churn rates, indicating that they cancel bookings more frequently compared to other income groups. On the other hand, **Middle Income** customers show a relatively lower churn rate, implying that they are more likely to avail the company's services and offers. This suggests that while high-income customers might not be as engaged, middle-income customers represent a more loyal and consistent customer base. The company could focus on strategies to reduce churn among high-income customers, potentially through personalized offers or improved service packages.\n",
    "\n"
   ]
  },
  {
   "cell_type": "code",
   "execution_count": 27,
   "id": "a35bdf12-adde-491c-a79a-ea627afa0700",
   "metadata": {},
   "outputs": [
    {
     "data": {
      "text/html": [
       "<div>\n",
       "<style scoped>\n",
       "    .dataframe tbody tr th:only-of-type {\n",
       "        vertical-align: middle;\n",
       "    }\n",
       "\n",
       "    .dataframe tbody tr th {\n",
       "        vertical-align: top;\n",
       "    }\n",
       "\n",
       "    .dataframe thead th {\n",
       "        text-align: right;\n",
       "    }\n",
       "</style>\n",
       "<table border=\"1\" class=\"dataframe\">\n",
       "  <thead>\n",
       "    <tr style=\"text-align: right;\">\n",
       "      <th></th>\n",
       "      <th>ChurnRate</th>\n",
       "    </tr>\n",
       "    <tr>\n",
       "      <th>Annual Income Class</th>\n",
       "      <th></th>\n",
       "    </tr>\n",
       "  </thead>\n",
       "  <tbody>\n",
       "    <tr>\n",
       "      <th>High Income</th>\n",
       "      <td>0.579710</td>\n",
       "    </tr>\n",
       "    <tr>\n",
       "      <th>Low Income</th>\n",
       "      <td>0.312195</td>\n",
       "    </tr>\n",
       "    <tr>\n",
       "      <th>Middle Income</th>\n",
       "      <td>0.104046</td>\n",
       "    </tr>\n",
       "  </tbody>\n",
       "</table>\n",
       "</div>"
      ],
      "text/plain": [
       "                     ChurnRate\n",
       "Annual Income Class           \n",
       "High Income           0.579710\n",
       "Low Income            0.312195\n",
       "Middle Income         0.104046"
      ]
     },
     "execution_count": 27,
     "metadata": {},
     "output_type": "execute_result"
    }
   ],
   "source": [
    "pivot_income_churn = data.pivot_table(values='Target', index='Annual Income Class', aggfunc='mean')\n",
    "pivot_income_churn.columns = ['ChurnRate']\n",
    "pivot_income_churn"
   ]
  },
  {
   "cell_type": "markdown",
   "id": "404e97b3-32f6-40c4-8065-82fbfd3656be",
   "metadata": {},
   "source": [
    "### Count of Churn by Income Class"
   ]
  },
  {
   "cell_type": "markdown",
   "id": "4e57c768-d329-4bdf-b548-5980dbe00cfd",
   "metadata": {},
   "source": [
    "---\n",
    "\r\n",
    "The churn rate is highest among **High Income** customers, indicating frequent cancellations. In contrast, **Middle** and **Low Income** customers show lower churn rates, with **Middle Income** customers being more likely to engage with company offers. Addressing the high churn rate in the high-income group could improve retention."
   ]
  },
  {
   "cell_type": "markdown",
   "id": "ac55a21f-d32a-4bfa-9f8a-78675362c5e4",
   "metadata": {},
   "source": [
    "### Group by 'Annual Income Class' and count churn values (0 = no churn, 1 = churn)"
   ]
  },
  {
   "cell_type": "code",
   "execution_count": 28,
   "id": "92d2d318-5c83-478e-b2ba-8d5ab6ceb697",
   "metadata": {},
   "outputs": [
    {
     "data": {
      "text/html": [
       "<div>\n",
       "<style scoped>\n",
       "    .dataframe tbody tr th:only-of-type {\n",
       "        vertical-align: middle;\n",
       "    }\n",
       "\n",
       "    .dataframe tbody tr th {\n",
       "        vertical-align: top;\n",
       "    }\n",
       "\n",
       "    .dataframe thead th {\n",
       "        text-align: right;\n",
       "    }\n",
       "</style>\n",
       "<table border=\"1\" class=\"dataframe\">\n",
       "  <thead>\n",
       "    <tr style=\"text-align: right;\">\n",
       "      <th>Target</th>\n",
       "      <th>0</th>\n",
       "      <th>1</th>\n",
       "    </tr>\n",
       "    <tr>\n",
       "      <th>Annual Income Class</th>\n",
       "      <th></th>\n",
       "      <th></th>\n",
       "    </tr>\n",
       "  </thead>\n",
       "  <tbody>\n",
       "    <tr>\n",
       "      <th>High Income</th>\n",
       "      <td>0.420290</td>\n",
       "      <td>0.579710</td>\n",
       "    </tr>\n",
       "    <tr>\n",
       "      <th>Low Income</th>\n",
       "      <td>0.687805</td>\n",
       "      <td>0.312195</td>\n",
       "    </tr>\n",
       "    <tr>\n",
       "      <th>Middle Income</th>\n",
       "      <td>0.895954</td>\n",
       "      <td>0.104046</td>\n",
       "    </tr>\n",
       "  </tbody>\n",
       "</table>\n",
       "</div>"
      ],
      "text/plain": [
       "Target                      0         1\n",
       "Annual Income Class                    \n",
       "High Income          0.420290  0.579710\n",
       "Low Income           0.687805  0.312195\n",
       "Middle Income        0.895954  0.104046"
      ]
     },
     "execution_count": 28,
     "metadata": {},
     "output_type": "execute_result"
    }
   ],
   "source": [
    "group_income_churn = data.groupby('Annual Income Class')['Target'].value_counts(normalize=True).unstack()\n",
    "group_income_churn"
   ]
  },
  {
   "cell_type": "markdown",
   "id": "bcee9a85-b585-4a00-9da0-7130392339bb",
   "metadata": {},
   "source": [
    "### Bar Plot: Churn Rate by Income Class"
   ]
  },
  {
   "cell_type": "markdown",
   "id": "715ef32a-a4d7-4f52-8358-d01b2fc4fc40",
   "metadata": {},
   "source": [
    "---\n",
    "\n",
    "\r\n",
    "The bar plot of **Churn Rate by Annual Income Class** reveals that **High Income** customers have the highest churn rate, suggesting they are more likely to cancel their bookings or stop using the service. In contrast, **Middle Income** customers show a moderate churn rate, and **Low Income** customers have the lowest churn rate, indicating higher retention. This suggests that high-income customers may need targeted retention strategies, while middle and low-income customers tend to remain more loyal."
   ]
  },
  {
   "cell_type": "code",
   "execution_count": 29,
   "id": "c544d9b4-950e-491c-9d9e-bb28a7564493",
   "metadata": {},
   "outputs": [
    {
     "data": {
      "image/png": "[encoded data removed]",
      "text/plain": [
       "<Figure size 800x600 with 1 Axes>"
      ]
     },
     "metadata": {},
     "output_type": "display_data"
    }
   ],
   "source": [
    "# Create a bar plot for churn rate by income class\n",
    "plt.figure(figsize=(8, 6))\n",
    "sns.barplot(x=pivot_income_churn.index, y=pivot_income_churn['ChurnRate'],color='skyblue')\n",
    "\n",
    "plt.title('Churn Rate by Annual Income Class', fontsize=16)\n",
    "plt.xlabel('Annual Income Class', fontsize=14)\n",
    "plt.ylabel('Churn Rate', fontsize=14)\n",
    "plt.show()\n"
   ]
  },
  {
   "cell_type": "markdown",
   "id": "b2fc508c-927d-42fc-8d13-16f156d44d8b",
   "metadata": {},
   "source": [
    "### Stacked Bar Plot: Churn Distribution by Income Class"
   ]
  },
  {
   "cell_type": "code",
   "execution_count": 30,
   "id": "fdf882c5-01f8-4811-905d-cf3f089d6a62",
   "metadata": {},
   "outputs": [
    {
     "data": {
      "image/png": "[encoded data removed]",
      "text/plain": [
       "<Figure size 800x600 with 1 Axes>"
      ]
     },
     "metadata": {},
     "output_type": "display_data"
    }
   ],
   "source": [
    "# Create a stacked bar plot for churn distribution by income class\n",
    "group_income_churn.plot(kind='bar', stacked=True, figsize=(8, 6), color=['salmon', 'skyblue'])\n",
    "\n",
    "plt.title('Churn Distribution by Annual Income Class', fontsize=16)\n",
    "plt.xlabel('Annual Income Class', fontsize=14)\n",
    "plt.ylabel('Proportion of Customers', fontsize=14)\n",
    "plt.legend(title='Churn', loc='upper right')\n",
    "plt.show()\n"
   ]
  },
  {
   "cell_type": "markdown",
   "id": "b2ba411b-033c-468d-81d4-78d16e4b88c8",
   "metadata": {},
   "source": [
    "### Summary:\n",
    "\n",
    "Customers who have made hotel reservations account for 60% of the overall population, whereas those who have not made hotel reservations account for 39% of the population, which is a significant number.\n",
    "\n",
    "We found that customers with the highest yearly income have the lowest proportion of customer churn, whereas those with the lowest (40%) and middle (42%), have the highest percentage of churn."
   ]
  },
  {
   "cell_type": "markdown",
   "id": "60749a22-5a3a-468c-9c6b-eacebb19d8e1",
   "metadata": {},
   "source": [
    "### Insights:\n",
    "\n",
    "The largest customer churn has been observed when a consumer has not made a hotel reservation. This may be due to a number of factors, including expensive hotel rates and longer waiting lists for reservations, both of which have a substantial impact on why people don't book hotels. This may help us understand how to run the campaign in order to shorten the waiting list.\n",
    "\n",
    "The highest customer churn have also seen in the situation where customer have low and middle income. This may give us an idea of the needs of the customers, and you can utilise the insights to work on how to lower your pricing without affecting your revenue, which you can then offer to your customers, which can prevent the customer churn."
   ]
  }
 ],
 "metadata": {
  "kernelspec": {
   "display_name": "Python 3 (ipykernel)",
   "language": "python",
   "name": "python3"
  },
  "language_info": {
   "codemirror_mode": {
    "name": "ipython",
    "version": 3
   },
   "file_extension": ".py",
   "mimetype": "text/x-python",
   "name": "python",
   "nbconvert_exporter": "python",
   "pygments_lexer": "ipython3",
   "version": "3.12.4"
  }
 },
 "nbformat": 4,
 "nbformat_minor": 5
}
